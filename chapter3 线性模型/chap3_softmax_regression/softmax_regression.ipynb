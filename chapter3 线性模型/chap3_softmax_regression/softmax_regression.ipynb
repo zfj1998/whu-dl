{
 "cells": [
  {
   "cell_type": "markdown",
   "metadata": {},
   "source": [
    "# Softmax Regression Example"
   ]
  },
  {
   "cell_type": "markdown",
   "metadata": {},
   "source": [
    "### 生成数据集\n",
    "#### '<font color=\"blue\">+</font>' 从高斯分布采样 (X, Y) ~ N(3, 6, 1, 1, 0).<br>\n",
    "#### '<font color=\"green\">o</font>' 从高斯分布采样  (X, Y) ~ N(6, 3, 1, 1, 0)<br>\n",
    "#### '<font color=\"red\">*</font>' 从高斯分布采样  (X, Y) ~ N(7, 7, 1, 1, 0)<br>"
   ]
  },
  {
   "cell_type": "code",
   "execution_count": 1,
   "metadata": {},
   "outputs": [
    {
     "data": {
      "image/png": "[encoded data removed]",
      "text/plain": [
       "<Figure size 432x288 with 1 Axes>"
      ]
     },
     "metadata": {
      "needs_background": "light"
     },
     "output_type": "display_data"
    }
   ],
   "source": [
    "import torch\n",
    "import torch.nn as nn\n",
    "import matplotlib.pyplot as plt\n",
    "\n",
    "from IPython.display import HTML\n",
    "import numpy as np\n",
    "%matplotlib inline\n",
    "\n",
    "dot_num = 100\n",
    "x_p = np.random.normal(3., 1, dot_num)\n",
    "y_p = np.random.normal(6., 1, dot_num)\n",
    "y = np.ones(dot_num)\n",
    "C1 = np.array([x_p, y_p, y]).T\n",
    "\n",
    "x_n = np.random.normal(6., 1, dot_num)\n",
    "y_n = np.random.normal(3., 1, dot_num)\n",
    "y = np.zeros(dot_num)\n",
    "C2 = np.array([x_n, y_n, y]).T\n",
    "\n",
    "x_b = np.random.normal(7., 1, dot_num)\n",
    "y_b = np.random.normal(7., 1, dot_num)\n",
    "y = np.ones(dot_num)*2\n",
    "C3 = np.array([x_b, y_b, y]).T\n",
    "\n",
    "plt.scatter(C1[:, 0], C1[:, 1], c='b', marker='+')\n",
    "plt.scatter(C2[:, 0], C2[:, 1], c='g', marker='o')\n",
    "plt.scatter(C3[:, 0], C3[:, 1], c='r', marker='*')\n",
    "\n",
    "data_set = np.concatenate((C1, C2, C3), axis=0)\n",
    "np.random.shuffle(data_set)\n",
    "\n",
    "x, y = torch.from_numpy(data_set[:, :2]).float(), torch.from_numpy(data_set[:, 2]).long()"
   ]
  },
  {
   "cell_type": "markdown",
   "metadata": {},
   "source": [
    "## 建立模型\n",
    "建立模型类，定义loss函数，定义一步梯度下降过程函数"
   ]
  },
  {
   "cell_type": "code",
   "execution_count": 2,
   "metadata": {},
   "outputs": [],
   "source": [
    "epsilon = 1e-12\n",
    "class SoftmaxRegression(nn.Module):\n",
    "    def __init__(self):\n",
    "        super(SoftmaxRegression, self).__init__()\n",
    "        self.linear = nn.Linear(2, 3)\n",
    "        \n",
    "    def forward(self, x):\n",
    "        x = self.linear(x)\n",
    "        return x\n",
    "\n",
    "\n",
    "def compute_loss(pred, label):\n",
    "    '''\n",
    "    manual implementation of cross-entropy loss\n",
    "    '''\n",
    "    N = pred.size()[0]\n",
    "    #################################################\n",
    "    # TODO：手动实现softmax和cross-entropy          #\n",
    "    #################################################\n",
    "    \n",
    "    pass\n",
    "\n",
    "    #################################################\n",
    "    return loss\n",
    "\n",
    "criterion = nn.CrossEntropyLoss()"
   ]
  },
  {
   "cell_type": "code",
   "execution_count": 3,
   "metadata": {},
   "outputs": [
    {
     "name": "stdout",
     "output_type": "stream",
     "text": [
      "difference: 0.0\n",
      "difference: 9.5367431640625e-07\n"
     ]
    }
   ],
   "source": [
    "pred, tar = torch.randn(3, 5), torch.empty(3, dtype=torch.long).random_(0, 5)\n",
    "raw = compute_loss(pred, tar)\n",
    "cel = criterion(pred, tar)\n",
    "print('difference:', cel.item()-raw.item())\n",
    "\n",
    "model = SoftmaxRegression()\n",
    "y_hat = model(x)\n",
    "raw = compute_loss(y_hat, y)\n",
    "cel = criterion(y_hat, y.view(-1))\n",
    "print('difference:', cel.item()-raw.item())"
   ]
  },
  {
   "cell_type": "markdown",
   "metadata": {},
   "source": [
    "### 实例化一个模型，进行训练"
   ]
  },
  {
   "cell_type": "code",
   "execution_count": 4,
   "metadata": {},
   "outputs": [
    {
     "name": "stdout",
     "output_type": "stream",
     "text": [
      "loss: 0.9571\t accuracy: 0.5933\n",
      "loss: 0.6945\t accuracy: 0.8067\n",
      "loss: 0.5879\t accuracy: 0.89\n",
      "loss: 0.5284\t accuracy: 0.8967\n",
      "loss: 0.4889\t accuracy: 0.89\n",
      "loss: 0.4602\t accuracy: 0.8967\n",
      "loss: 0.438\t accuracy: 0.8967\n",
      "loss: 0.4203\t accuracy: 0.9\n",
      "loss: 0.4057\t accuracy: 0.9\n",
      "loss: 0.3934\t accuracy: 0.9\n",
      "loss: 0.3829\t accuracy: 0.9\n",
      "loss: 0.3737\t accuracy: 0.9033\n",
      "loss: 0.3657\t accuracy: 0.9033\n",
      "loss: 0.3586\t accuracy: 0.9033\n",
      "loss: 0.3523\t accuracy: 0.9033\n",
      "loss: 0.3465\t accuracy: 0.9067\n",
      "loss: 0.3413\t accuracy: 0.9067\n",
      "loss: 0.3366\t accuracy: 0.9067\n",
      "loss: 0.3322\t accuracy: 0.9067\n",
      "loss: 0.3282\t accuracy: 0.9067\n"
     ]
    }
   ],
   "source": [
    "import torch.optim as optim\n",
    "\n",
    "model = SoftmaxRegression()\n",
    "optimizer = optim.SGD(model.parameters(), lr=0.01)\n",
    "N = x.size()[0]\n",
    "for i in range(1000):\n",
    "    optimizer.zero_grad()\n",
    "    scores = model(x)\n",
    "    loss = criterion(scores, y)\n",
    "    loss.backward()\n",
    "    optimizer.step()\n",
    "    \n",
    "    _, pred = torch.max(scores, dim=1)\n",
    "    acc = (pred==y).sum().item()/N\n",
    "    if i%50==49:\n",
    "        print(f'loss: {loss.item():.4}\\t accuracy: {acc:.4}')"
   ]
  },
  {
   "cell_type": "markdown",
   "metadata": {},
   "source": [
    "## 结果展示"
   ]
  },
  {
   "cell_type": "code",
   "execution_count": 5,
   "metadata": {},
   "outputs": [
    {
     "name": "stdout",
     "output_type": "stream",
     "text": [
      "(10000, 2)\n"
     ]
    },
    {
     "data": {
      "image/png": "[encoded data removed]",
      "text/plain": [
       "<Figure size 432x288 with 1 Axes>"
      ]
     },
     "metadata": {
      "needs_background": "light"
     },
     "output_type": "display_data"
    }
   ],
   "source": [
    "plt.scatter(C1[:, 0], C1[:, 1], c='b', marker='+')\n",
    "plt.scatter(C2[:, 0], C2[:, 1], c='g', marker='o')\n",
    "plt.scatter(C3[:, 0], C3[:, 1], c='r', marker='*')\n",
    "\n",
    "x = np.arange(0., 10., 0.1)\n",
    "y = np.arange(0., 10., 0.1)\n",
    "\n",
    "X, Y = np.meshgrid(x, y)\n",
    "inp = np.array(list(zip(X.reshape(-1), Y.reshape(-1))), dtype=np.float32)\n",
    "print(inp.shape)\n",
    "Z = model(torch.from_numpy(inp)).detach().numpy()\n",
    "Z = np.argmax(Z, axis=1)\n",
    "Z = Z.reshape(X.shape)\n",
    "plt.contour(X,Y,Z)\n",
    "plt.show()"
   ]
  },
  {
   "cell_type": "markdown",
   "metadata": {},
   "source": [
    "## 答案\n",
    "```python\n",
    "# Softmax\n",
    "colmax, _ = torch.max(pred, dim=1, keepdims=True)\n",
    "prob = torch.exp(pred-colmax) # for numerical stability\n",
    "prob = prob / torch.sum(prob, dim=1, keepdims=True)\n",
    "    \n",
    "# Cross-entropy loss\n",
    "logprob = -torch.log(prob)\n",
    "loss = torch.mean(logprob[range(N), label])\n",
    "```"
   ]
  }
 ],
 "metadata": {
  "kernelspec": {
   "display_name": "Python [conda env:reboot]",
   "language": "python",
   "name": "conda-env-reboot-py"
  },
  "language_info": {
   "codemirror_mode": {
    "name": "ipython",
    "version": 3
   },
   "file_extension": ".py",
   "mimetype": "text/x-python",
   "name": "python",
   "nbconvert_exporter": "python",
   "pygments_lexer": "ipython3",
   "version": "3.7.4"
  }
 },
 "nbformat": 4,
 "nbformat_minor": 1
}
