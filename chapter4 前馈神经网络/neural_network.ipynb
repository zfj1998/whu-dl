{
 "cells": [
  {
   "cell_type": "markdown",
   "metadata": {},
   "source": [
    "# 一个简单的网络模型"
   ]
  },
  {
   "cell_type": "code",
   "execution_count": 1,
   "metadata": {},
   "outputs": [
    {
     "name": "stdout",
     "output_type": "stream",
     "text": [
      "Net(\n",
      "  (conv1): Conv2d(1, 6, kernel_size=(5, 5), stride=(1, 1))\n",
      "  (conv2): Conv2d(6, 16, kernel_size=(5, 5), stride=(1, 1))\n",
      "  (fc1): Linear(in_features=400, out_features=120, bias=True)\n",
      "  (fc2): Linear(in_features=120, out_features=84, bias=True)\n",
      "  (fc3): Linear(in_features=84, out_features=10, bias=True)\n",
      ")\n"
     ]
    }
   ],
   "source": [
    "import torch\n",
    "import torch.nn as nn\n",
    "import torch.nn.functional as F\n",
    "\n",
    "# 定义网络\n",
    "class Net(nn.Module):\n",
    "\n",
    "    def __init__(self):\n",
    "        # 继承原有模型\n",
    "        super(Net, self).__init__()\n",
    "        \n",
    "        # 定义了两个卷积层\n",
    "        # 第一层，输入1维的（单通道，灰色）图片，输出6维的的卷积层（用到了6个卷积核，每个卷积核是5*5的）。\n",
    "        self.conv1 = nn.Conv2d(1, 6, 5)\n",
    "        # 第二层\n",
    "        self.conv2 = nn.Conv2d(6, 16, 5)\n",
    "        \n",
    "        # 定义了三个全连接层，即fc1与conv2相连，将16张5*5的卷积网络一维化，并输出120个节点。\n",
    "        self.fc1 = nn.Linear(16 * 5 * 5, 120)        \n",
    "        # 将120个节点转化为84个。\n",
    "        self.fc2 = nn.Linear(120, 84)       \n",
    "        # 将84个节点输出为10个，即有10个分类结果。\n",
    "        self.fc3 = nn.Linear(84, 10)\n",
    "\n",
    "    def forward(self, x): \n",
    "        # 用relu激活函数作为一个池化层，池化的窗口大小是2*2，与上文的16*5*5的计算结果相符。\n",
    "        # 先用conv1卷积，然后激活，激活的窗口是2*2。\n",
    "        x = F.max_pool2d(F.relu(self.conv1(x)), (2, 2))   \n",
    "        # 作用同上。窗口是正方形的时候，2的写法等同于（2，2）。\n",
    "        x = F.max_pool2d(F.relu(self.conv2(x)), 2)\n",
    "        \n",
    "        # 调用定义好的函数，将高维的向量转化为一维。\n",
    "        x = x.view(-1, self.num_flat_features(x))\n",
    "        \n",
    "        # 用全连接层fc1和fc2，然后做激活。\n",
    "        x = F.relu(self.fc1(x))\n",
    "        x = F.relu(self.fc2(x))     \n",
    "        # 用全连接层fc3。\n",
    "        x = self.fc3(x)\n",
    "        return x\n",
    "\n",
    "    def num_flat_features(self, x):\n",
    "        # 承接上文的引用，由于pytorch只接受图片集的输入方式,所以第一个代表个数的维度被忽略。\n",
    "        size = x.size()[1:]  \n",
    "        num_features = 1\n",
    "        for s in size:\n",
    "            num_features *= s\n",
    "        return num_features\n",
    "\n",
    "# 创建网络，并查看\n",
    "net = Net()\n",
    "print(net)\n"
   ]
  }
 ],
 "metadata": {
  "kernelspec": {
   "display_name": "Python 3",
   "language": "python",
   "name": "python3"
  },
  "language_info": {
   "codemirror_mode": {
    "name": "ipython",
    "version": 3
   },
   "file_extension": ".py",
   "mimetype": "text/x-python",
   "name": "python",
   "nbconvert_exporter": "python",
   "pygments_lexer": "ipython3",
   "version": "3.7.1"
  }
 },
 "nbformat": 4,
 "nbformat_minor": 2
}
